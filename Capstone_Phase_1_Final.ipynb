{
 "cells": [
  {
   "cell_type": "code",
   "execution_count": 110,
   "id": "f9f74f4b-04d1-4842-9914-8f2616166830",
   "metadata": {},
   "outputs": [],
   "source": [
    "import pandas as pd\n",
    "import os\n",
    "import matplotlib.pyplot as plt\n",
    "import re\n",
    "from langdetect import detect\n",
    "import spacy\n",
    "from textblob import TextBlob\n",
    "from wordcloud import WordCloud\n",
    "import seaborn as sns\n",
    "import numpy as np\n",
    "import nltk\n",
    "from collections import Counter"
   ]
  },
  {
   "cell_type": "code",
   "execution_count": 2,
   "id": "aaf7d0a9-707b-4c64-9948-f73ef23c3312",
   "metadata": {},
   "outputs": [
    {
     "name": "stdout",
     "output_type": "stream",
     "text": [
      "./DevGPT/snapshot_20230803/20230803_095317_commit_sharings.json\n",
      "./DevGPT/snapshot_20230803/20230803_094811_discussion_sharings.json\n",
      "./DevGPT/snapshot_20230803/20230803_094705_issue_sharings.json\n",
      "./DevGPT/snapshot_20230803/20230803_093947_pr_sharings.json\n",
      "./DevGPT/snapshot_20230803/20230803_105332_hn_sharings.json\n",
      "./DevGPT/snapshot_20230803/20230803_103605_file_sharings.json\n",
      "./DevGPT/snapshot_20230824/20230824_101836_issue_sharings.json\n",
      "./DevGPT/snapshot_20230824/20230824_102000_discussion_sharings.json\n",
      "./DevGPT/snapshot_20230824/20230824_102435_commit_sharings.json\n",
      "./DevGPT/snapshot_20230824/20230824_111114_file_sharings.json\n",
      "./DevGPT/snapshot_20230824/20230824_100450_pr_sharings.json\n",
      "./DevGPT/snapshot_20230824/20230824_112153_hn_sharings.json\n",
      "./DevGPT/snapshot_20230914/20230914_104122_file_sharings.json\n",
      "./DevGPT/snapshot_20230914/20230914_083202_commit_sharings.json\n",
      "./DevGPT/snapshot_20230914/20230914_080417_issue_sharings.json\n",
      "./DevGPT/snapshot_20230914/20230914_080601_discussion_sharings.json\n",
      "./DevGPT/snapshot_20230914/20230914_074826_pr_sharings.json\n",
      "./DevGPT/snapshot_20230914/20230914_105439_hn_sharings.json\n",
      "./DevGPT/snapshot_20230810/20230810_124807_commit_sharings.json\n",
      "./DevGPT/snapshot_20230810/20230810_133121_file_sharings.json\n",
      "./DevGPT/snapshot_20230810/20230810_124048_discussion_sharings.json\n",
      "./DevGPT/snapshot_20230810/20230810_123938_issue_sharings.json\n",
      "./DevGPT/snapshot_20230810/20230810_123110_pr_sharings.json\n",
      "./DevGPT/snapshot_20230810/20230810_134011_hn_sharings.json\n",
      "./DevGPT/snapshot_20230831/20230831_060603_pr_sharings.json\n",
      "./DevGPT/snapshot_20230831/20230831_061926_discussion_sharings.json\n",
      "./DevGPT/snapshot_20230831/20230831_061759_issue_sharings.json\n",
      "./DevGPT/snapshot_20230831/20230831_063412_commit_sharings.json\n",
      "./DevGPT/snapshot_20230831/20230831_072722_file_sharings.json\n",
      "./DevGPT/snapshot_20230831/20230831_073827_hn_sharings.json\n",
      "./DevGPT/snapshot_20231012/20231012_230826_commit_sharings.json\n",
      "./DevGPT/snapshot_20231012/20231012_235320_discussion_sharings.json\n",
      "./DevGPT/snapshot_20231012/20231012_232232_hn_sharings.json\n",
      "./DevGPT/snapshot_20231012/20231012_233628_pr_sharings.json\n",
      "./DevGPT/snapshot_20231012/20231012_234250_file_sharings.json\n",
      "./DevGPT/snapshot_20231012/20231012_235128_issue_sharings.json\n",
      "./DevGPT/snapshot_20230727/20230727_200102_file_sharings.json\n",
      "./DevGPT/snapshot_20230727/20230727_195816_hn_sharings.json\n",
      "./DevGPT/snapshot_20230727/20230727_195941_issue_sharings.json\n",
      "./DevGPT/snapshot_20230727/20230727_195927_pr_sharings.json\n",
      "./DevGPT/snapshot_20230727/20230727_200003_commit_sharings.json\n",
      "./DevGPT/snapshot_20230727/20230727_195954_discussion_sharings.json\n",
      "./DevGPT/snapshot_20230817/20230817_125147_pr_sharings.json\n",
      "./DevGPT/snapshot_20230817/20230817_170022_hn_sharings.json\n",
      "./DevGPT/snapshot_20230817/20230817_130502_issue_sharings.json\n",
      "./DevGPT/snapshot_20230817/20230817_151344_file_sharings.json\n",
      "./DevGPT/snapshot_20230817/20230817_130721_discussion_sharings.json\n",
      "./DevGPT/snapshot_20230817/20230817_131244_commit_sharings.json\n",
      "./DevGPT/snapshot_20230907/20230907_093129_discussion_sharings.json\n",
      "./DevGPT/snapshot_20230907/20230907_092956_issue_sharings.json\n",
      "./DevGPT/snapshot_20230907/20230907_110036_commit_sharings.json\n",
      "./DevGPT/snapshot_20230907/20230907_091631_pr_sharings.json\n",
      "./DevGPT/snapshot_20230907/20230907_121304_file_sharings.json\n",
      "./DevGPT/snapshot_20230907/20230907_123434_hn_sharings.json\n"
     ]
    }
   ],
   "source": [
    "parent_folder = \"./DevGPT\"\n",
    "\n",
    "folder_names = [\"snapshot_20230803\", \"snapshot_20230824\", \"snapshot_20230914\",\n",
    "                \"snapshot_20230810\", \"snapshot_20230831\", \"snapshot_20231012\",\n",
    "                \"snapshot_20230727\", \"snapshot_20230817\", \"snapshot_20230907\"]\n",
    "\n",
    "# Define the patterns to identify different types of files\n",
    "patterns = [\"_issue_sharings.json\", \"_hn_sharings.json\", \"_discussion_sharings.json\", \"_commit_sharings.json\", \"_pr_sharings.json\", \"_file_sharings.json\"]\n",
    "\n",
    "# Initialize dataframes for each type of file\n",
    "issue_sharings_df = pd.DataFrame()\n",
    "hn_sharings_df = pd.DataFrame()\n",
    "discussions_sharings_df = pd.DataFrame()\n",
    "commit_sharings_df = pd.DataFrame()\n",
    "pr_sharings_df = pd.DataFrame()\n",
    "file_sharings_df = pd.DataFrame()\n",
    "\n",
    "# Iterate through folders and files\n",
    "for folder_name in folder_names:\n",
    "    full_folder_path = os.path.join(parent_folder, folder_name)\n",
    "    for file_name in os.listdir(full_folder_path):\n",
    "        file_path = os.path.join(full_folder_path, file_name)\n",
    "        \n",
    "        # Check if the file name contains any of the specified patterns\n",
    "        for pattern in patterns:\n",
    "            if pattern in file_name:\n",
    "                # Create custom location string for reading CSV files\n",
    "                custom_location = f\"{file_path}\"\n",
    "                print(custom_location)\n",
    "                # Read CSV file into a dataframe\n",
    "                df = pd.read_json(custom_location)\n",
    "                \n",
    "                # Assign the dataframe to the corresponding variable based on the pattern\n",
    "                if \"_issue_sharings.json\" in pattern:\n",
    "                    issue_sharings_df = pd.concat([issue_sharings_df, df], ignore_index=True)\n",
    "                elif \"_hn_sharings.json\" in pattern:\n",
    "                    hn_sharings_df = pd.concat([hn_sharings_df, df], ignore_index=True)\n",
    "                elif \"_discussion_sharings.json\" in pattern:\n",
    "                    discussions_sharings_df = pd.concat([discussions_sharings_df, df], ignore_index=True)\n",
    "                elif \"_commit_sharings.json\" in pattern:\n",
    "                    commit_sharings_df = pd.concat([commit_sharings_df, df], ignore_index=True)\n",
    "                elif \"_pr_sharings.json\" in pattern:\n",
    "                    pr_sharings_df = pd.concat([pr_sharings_df, df], ignore_index=True)\n",
    "                elif \"_file_sharings.json\" in pattern:\n",
    "                    file_sharings_df = pd.concat([file_sharings_df, df], ignore_index=True)\n"
   ]
  },
  {
   "cell_type": "code",
   "execution_count": 3,
   "id": "f6ce43da-3752-4487-8f7b-8d7d275d17dd",
   "metadata": {},
   "outputs": [],
   "source": [
    "def extract_json_to_columns(df):\n",
    "    df = pd.DataFrame(df.Sources.tolist())\n",
    "    df = pd.concat([df, pd.DataFrame(df.ChatgptSharing.str[0].tolist()).add_prefix(\"CGS_\")], axis=1)\n",
    "    return df"
   ]
  },
  {
   "cell_type": "code",
   "execution_count": 4,
   "id": "0c873db0-b237-4941-82c0-661ed432fe65",
   "metadata": {},
   "outputs": [],
   "source": [
    "issue_sharings_df = extract_json_to_columns(issue_sharings_df)\n",
    "hn_sharings_df = extract_json_to_columns(hn_sharings_df)\n",
    "discussions_sharings_df = extract_json_to_columns(discussions_sharings_df)\n",
    "commit_sharings_df = extract_json_to_columns(commit_sharings_df)\n",
    "pr_sharings_df = extract_json_to_columns(pr_sharings_df)\n",
    "file_sharings_df = extract_json_to_columns(file_sharings_df)"
   ]
  },
  {
   "cell_type": "markdown",
   "id": "d1066c5a-aa73-480b-a021-6f5ddbc47908",
   "metadata": {},
   "source": [
    "#### Remove Null values from Conversations"
   ]
  },
  {
   "cell_type": "code",
   "execution_count": 5,
   "id": "01f31301-3cc3-4f7a-8e4f-a93945e0bb63",
   "metadata": {},
   "outputs": [],
   "source": [
    "issue_sharings_df['CGS_Conversations'] = issue_sharings_df.CGS_Conversations.fillna('').apply(list)\n",
    "hn_sharings_df['CGS_Conversations'] = hn_sharings_df.CGS_Conversations.fillna('').apply(list)\n",
    "discussions_sharings_df['CGS_Conversations'] = discussions_sharings_df.CGS_Conversations.fillna('').apply(list)\n",
    "commit_sharings_df['CGS_Conversations'] = commit_sharings_df.CGS_Conversations.fillna('').apply(list)\n",
    "pr_sharings_df['CGS_Conversations'] = pr_sharings_df.CGS_Conversations.fillna('').apply(list)\n",
    "file_sharings_df['CGS_Conversations'] = file_sharings_df.CGS_Conversations.fillna('').apply(list)"
   ]
  },
  {
   "cell_type": "markdown",
   "id": "0bc93d43-3158-4c20-a26b-53bf2347897e",
   "metadata": {},
   "source": [
    "#### Extract Prompts and Answers from Conversations"
   ]
  },
  {
   "cell_type": "markdown",
   "id": "9b882625-8558-4aae-9a53-3fe700261430",
   "metadata": {},
   "source": [
    "##### Helper Function"
   ]
  },
  {
   "cell_type": "code",
   "execution_count": 6,
   "id": "92f90ca5-f137-498a-a70c-25dfc1c3fd04",
   "metadata": {},
   "outputs": [],
   "source": [
    "# Function to extract Prompts and Answers\n",
    "def extract_prompts_and_answers(conversations):\n",
    "    prompts = []\n",
    "    answers = []\n",
    "\n",
    "    if conversations:\n",
    "        for i, conv in enumerate(conversations):\n",
    "                prompt = conv.get(\"Prompt\", \"\")\n",
    "                answer = conv.get(\"Answer\", \"\")\n",
    "                prompts.append(prompt)\n",
    "                answers.append(answer)\n",
    "    \n",
    "    conv_len = len(prompts) + len(answers)\n",
    "    return pd.Series({\"Prompts\": prompts, \"Answers\": answers, \"Conversation_Length\": conv_len})"
   ]
  },
  {
   "cell_type": "markdown",
   "id": "e98c7df7-8def-4093-8572-d79420d69983",
   "metadata": {
    "jp-MarkdownHeadingCollapsed": true,
    "tags": []
   },
   "source": [
    "##### Alternate"
   ]
  },
  {
   "cell_type": "code",
   "execution_count": 7,
   "id": "b8685b22-1e6f-47bb-9490-a4cc41021017",
   "metadata": {},
   "outputs": [],
   "source": [
    "# Expands Prompts and Answers to seperate columns for each record\n",
    "# pd.concat([hn_sharings_df, pd.DataFrame(hn_sharings_df.Prompts.tolist(), index = hn_sharings_df.index).add_prefix(\"Prompt_\")], axis=1)"
   ]
  },
  {
   "cell_type": "markdown",
   "id": "2f9cd8ff-fcce-4086-8f52-c54ae40a3907",
   "metadata": {
    "jp-MarkdownHeadingCollapsed": true,
    "tags": []
   },
   "source": [
    "##### Sol 2"
   ]
  },
  {
   "cell_type": "code",
   "execution_count": 8,
   "id": "1ee89585-7c8f-4ed0-90dd-3c836f077c7c",
   "metadata": {},
   "outputs": [],
   "source": [
    "# Expands Prompts and answers to create multiple rows with one Prompt and Answer Pair each.\n",
    "# result = []\n",
    "# for idx, row in hn_sharings_df.iterrows():\n",
    "#     for dct in row['Conversations']:\n",
    "#         for col in list(set(hn_sharings_df.columns) - set([\"Conversations\", \"ChatgptSharing\", \"HTMLContent\"])):\n",
    "#             dct[col] = row[col]\n",
    "#         result.append(dct)\n",
    "\n",
    "# result_df = pd.DataFrame(result)"
   ]
  },
  {
   "cell_type": "markdown",
   "id": "ae28b468-7aed-4825-9f93-740bfc374601",
   "metadata": {},
   "source": [
    "##### Apply on all dataframes"
   ]
  },
  {
   "cell_type": "code",
   "execution_count": 9,
   "id": "c90fba21-4432-4307-82df-47c7515a2a4f",
   "metadata": {},
   "outputs": [],
   "source": [
    "issue_sharings_df[[\"Prompts\", \"Answers\", \"Conversation_Length\"]] = issue_sharings_df.CGS_Conversations.apply(extract_prompts_and_answers)\n",
    "hn_sharings_df[[\"Prompts\", \"Answers\", \"Conversation_Length\"]] = hn_sharings_df.CGS_Conversations.apply(extract_prompts_and_answers)\n",
    "discussions_sharings_df[[\"Prompts\", \"Answers\", \"Conversation_Length\"]] = discussions_sharings_df.CGS_Conversations.apply(extract_prompts_and_answers)\n",
    "commit_sharings_df[[\"Prompts\", \"Answers\", \"Conversation_Length\"]] = commit_sharings_df.CGS_Conversations.apply(extract_prompts_and_answers)\n",
    "pr_sharings_df[[\"Prompts\", \"Answers\", \"Conversation_Length\"]] = pr_sharings_df.CGS_Conversations.apply(extract_prompts_and_answers)\n",
    "file_sharings_df[[\"Prompts\", \"Answers\", \"Conversation_Length\"]] = file_sharings_df.CGS_Conversations.apply(extract_prompts_and_answers)"
   ]
  },
  {
   "cell_type": "markdown",
   "id": "d89775b9-8896-4dd0-ad99-781834be5030",
   "metadata": {},
   "source": [
    "### Duplicate Records Cleaning"
   ]
  },
  {
   "cell_type": "code",
   "execution_count": 10,
   "id": "0efd822f-6cee-48ed-ac9b-ba2633755e24",
   "metadata": {},
   "outputs": [],
   "source": [
    "def dedupe_data(data, identifier='CGS_URL'):\n",
    "    return data.loc[data.groupby(identifier).Conversation_Length.idxmax()]"
   ]
  },
  {
   "cell_type": "code",
   "execution_count": 11,
   "id": "fe8e3d0b-0e4d-418d-b9a5-a44fee190617",
   "metadata": {},
   "outputs": [],
   "source": [
    "issue_sharings_final_df = dedupe_data(issue_sharings_df)\n",
    "hn_sharings_final_df = dedupe_data(hn_sharings_df)\n",
    "discussions_sharings_final_df = dedupe_data(discussions_sharings_df)\n",
    "commit_sharings_final_df = dedupe_data(commit_sharings_df)\n",
    "pr_sharings_final_df = dedupe_data(pr_sharings_df)\n",
    "file_sharings_final_df = dedupe_data(file_sharings_df)"
   ]
  },
  {
   "cell_type": "code",
   "execution_count": 12,
   "id": "5e48f489-d06b-4f7d-aa4e-bbe66d45422a",
   "metadata": {},
   "outputs": [
    {
     "name": "stdout",
     "output_type": "stream",
     "text": [
      "issue_sharings - Original: (3081, 28), Final: (516, 28)\n",
      "hn_sharings - Original: (1633, 26), Final: (235, 26)\n",
      "discussions_sharings - Original: (398, 29), Final: (62, 29)\n",
      "commit_sharings - Original: (3245, 25), Final: (672, 25)\n",
      "pr_sharings - Original: (1693, 34), Final: (269, 34)\n",
      "file_sharings - Original: (8664, 29), Final: (1668, 29)\n"
     ]
    }
   ],
   "source": [
    "print(f\"issue_sharings - Original: {issue_sharings_df.shape}, Final: {issue_sharings_final_df.shape}\")\n",
    "print(f\"hn_sharings - Original: {hn_sharings_df.shape}, Final: {hn_sharings_final_df.shape}\")\n",
    "print(f\"discussions_sharings - Original: {discussions_sharings_df.shape}, Final: {discussions_sharings_final_df.shape}\")\n",
    "print(f\"commit_sharings - Original: {commit_sharings_df.shape}, Final: {commit_sharings_final_df.shape}\")\n",
    "print(f\"pr_sharings - Original: {pr_sharings_df.shape}, Final: {pr_sharings_final_df.shape}\")\n",
    "print(f\"file_sharings - Original: {file_sharings_df.shape}, Final: {file_sharings_final_df.shape}\")"
   ]
  },
  {
   "cell_type": "code",
   "execution_count": 13,
   "id": "b7d465e1-868c-4beb-958f-e0a46d1baa01",
   "metadata": {},
   "outputs": [
    {
     "data": {
      "text/plain": [
       "Index(['Type', 'URL', 'ObjectSha', 'FileName', 'FilePath', 'Author', 'Content',\n",
       "       'RepoName', 'RepoLanguage', 'CommitSha', 'CommitMessage', 'AuthorAt',\n",
       "       'CommitAt', 'ChatgptSharing', 'CGS_URL', 'CGS_Mention', 'CGS_Status',\n",
       "       'CGS_DateOfConversation', 'CGS_DateOfAccess', 'CGS_Title',\n",
       "       'CGS_NumberOfPrompts', 'CGS_TokensOfPrompts', 'CGS_TokensOfAnswers',\n",
       "       'CGS_Model', 'CGS_Conversations', 'CGS_HTMLContent', 'Prompts',\n",
       "       'Answers', 'Conversation_Length'],\n",
       "      dtype='object')"
      ]
     },
     "execution_count": 13,
     "metadata": {},
     "output_type": "execute_result"
    }
   ],
   "source": [
    "file_sharings_df.columns"
   ]
  },
  {
   "cell_type": "markdown",
   "id": "685422b6-cce9-47d2-99fb-9e81cb18dac2",
   "metadata": {},
   "source": [
    "#### Make final Dataframe"
   ]
  },
  {
   "cell_type": "code",
   "execution_count": 14,
   "id": "6b417200-6e40-4cd2-947c-993216cd6df5",
   "metadata": {},
   "outputs": [],
   "source": [
    "columns_to_keep = [\n",
    "    'Type', 'RepoLanguage', 'CGS_URL', 'CGS_Status', 'CGS_DateOfConversation', 'CGS_DateOfAccess', \n",
    "    'CGS_Title', 'CGS_NumberOfPrompts', 'CGS_TokensOfPrompts', \n",
    "    'CGS_TokensOfAnswers', 'CGS_Model', \n",
    "    'Prompts', 'Answers', 'Conversation_Length'\n",
    "]"
   ]
  },
  {
   "cell_type": "code",
   "execution_count": 15,
   "id": "959c6688-5b64-4fcf-937f-ba370aaaf269",
   "metadata": {},
   "outputs": [],
   "source": [
    "hn_sharings_final_df['RepoLanguage'] = ''"
   ]
  },
  {
   "cell_type": "code",
   "execution_count": 16,
   "id": "1ea0d929-f93a-48af-97be-e5fe843c69f7",
   "metadata": {},
   "outputs": [],
   "source": [
    "final_df = pd.concat(\n",
    "    [issue_sharings_final_df[columns_to_keep], \n",
    "     hn_sharings_final_df[columns_to_keep], \n",
    "     discussions_sharings_final_df[columns_to_keep], \n",
    "     commit_sharings_final_df[columns_to_keep], \n",
    "     pr_sharings_final_df[columns_to_keep], \n",
    "     file_sharings_final_df[columns_to_keep]\n",
    "    ], \n",
    "    axis=0,\n",
    "    ignore_index=True,\n",
    "    \n",
    ")"
   ]
  },
  {
   "cell_type": "code",
   "execution_count": 17,
   "id": "57b2ee26-bd89-48fd-a371-c9369b612965",
   "metadata": {},
   "outputs": [],
   "source": [
    "final_df = final_df.drop_duplicates(subset=\"CGS_URL\", keep=\"first\")"
   ]
  },
  {
   "cell_type": "code",
   "execution_count": 18,
   "id": "c0ccf057-26ca-49fc-83f8-a62a60e0b590",
   "metadata": {
    "tags": []
   },
   "outputs": [],
   "source": [
    "final_df.drop(final_df[final_df.Conversation_Length == 0].index, inplace=True)"
   ]
  },
  {
   "cell_type": "code",
   "execution_count": 19,
   "id": "f8ba4afe-ea27-4e3c-a835-f1ee6d953be5",
   "metadata": {},
   "outputs": [
    {
     "data": {
      "text/plain": [
       "RepoLanguage              341\n",
       "Type                        0\n",
       "CGS_URL                     0\n",
       "CGS_Status                  0\n",
       "CGS_DateOfConversation      0\n",
       "CGS_DateOfAccess            0\n",
       "CGS_Title                   0\n",
       "CGS_NumberOfPrompts         0\n",
       "CGS_TokensOfPrompts         0\n",
       "CGS_TokensOfAnswers         0\n",
       "CGS_Model                   0\n",
       "Prompts                     0\n",
       "Answers                     0\n",
       "Conversation_Length         0\n",
       "dtype: int64"
      ]
     },
     "execution_count": 19,
     "metadata": {},
     "output_type": "execute_result"
    }
   ],
   "source": [
    "final_df.isna().sum().sort_values(ascending=False)"
   ]
  },
  {
   "cell_type": "code",
   "execution_count": 20,
   "id": "bf397ef7-f56c-4dbb-b8c8-1533bfef0ed5",
   "metadata": {},
   "outputs": [
    {
     "data": {
      "text/html": [
       "<div>\n",
       "<style scoped>\n",
       "    .dataframe tbody tr th:only-of-type {\n",
       "        vertical-align: middle;\n",
       "    }\n",
       "\n",
       "    .dataframe tbody tr th {\n",
       "        vertical-align: top;\n",
       "    }\n",
       "\n",
       "    .dataframe thead th {\n",
       "        text-align: right;\n",
       "    }\n",
       "</style>\n",
       "<table border=\"1\" class=\"dataframe\">\n",
       "  <thead>\n",
       "    <tr style=\"text-align: right;\">\n",
       "      <th></th>\n",
       "      <th>Type</th>\n",
       "      <th>RepoLanguage</th>\n",
       "      <th>CGS_URL</th>\n",
       "      <th>CGS_Status</th>\n",
       "      <th>CGS_DateOfConversation</th>\n",
       "      <th>CGS_DateOfAccess</th>\n",
       "      <th>CGS_Title</th>\n",
       "      <th>CGS_NumberOfPrompts</th>\n",
       "      <th>CGS_TokensOfPrompts</th>\n",
       "      <th>CGS_TokensOfAnswers</th>\n",
       "      <th>CGS_Model</th>\n",
       "      <th>Prompts</th>\n",
       "      <th>Answers</th>\n",
       "      <th>Conversation_Length</th>\n",
       "    </tr>\n",
       "  </thead>\n",
       "  <tbody>\n",
       "    <tr>\n",
       "      <th>367</th>\n",
       "      <td>issue</td>\n",
       "      <td>Java</td>\n",
       "      <td>https://chat.openai.com/share/b508ddd3-af83-42...</td>\n",
       "      <td>200</td>\n",
       "      <td>July 8, 2023</td>\n",
       "      <td>2023-08-03 09:39:55.655581</td>\n",
       "      <td></td>\n",
       "      <td>3.0</td>\n",
       "      <td>36.0</td>\n",
       "      <td>931.0</td>\n",
       "      <td></td>\n",
       "      <td>[How to add a java class in a generic containe...</td>\n",
       "      <td>[To add a Java class in a generic container fr...</td>\n",
       "      <td>6</td>\n",
       "    </tr>\n",
       "    <tr>\n",
       "      <th>606</th>\n",
       "      <td>hacker news</td>\n",
       "      <td></td>\n",
       "      <td>https://chat.openai.com/share/6478dcdd-98d3-44...</td>\n",
       "      <td>200</td>\n",
       "      <td>September 12, 2023</td>\n",
       "      <td>2023-09-14 10:42:30.379231</td>\n",
       "      <td></td>\n",
       "      <td>1.0</td>\n",
       "      <td>15.0</td>\n",
       "      <td>618.0</td>\n",
       "      <td>Default</td>\n",
       "      <td>[Discuss the last 20 years of Windows UI frame...</td>\n",
       "      <td>[Certainly! Let's walk through the last two de...</td>\n",
       "      <td>2</td>\n",
       "    </tr>\n",
       "    <tr>\n",
       "      <th>1731</th>\n",
       "      <td>pull request</td>\n",
       "      <td>TypeScript</td>\n",
       "      <td>https://chat.openai.com/share/e5d50333-2d70-4c...</td>\n",
       "      <td>200</td>\n",
       "      <td>September 5, 2023</td>\n",
       "      <td>2023-09-14 07:39:48.425320</td>\n",
       "      <td></td>\n",
       "      <td>1.0</td>\n",
       "      <td>10.0</td>\n",
       "      <td>250.0</td>\n",
       "      <td>Default</td>\n",
       "      <td>[transifex github integration sync goes both w...</td>\n",
       "      <td>[As of my last update in September 2021, Trans...</td>\n",
       "      <td>2</td>\n",
       "    </tr>\n",
       "  </tbody>\n",
       "</table>\n",
       "</div>"
      ],
      "text/plain": [
       "              Type RepoLanguage  \\\n",
       "367          issue         Java   \n",
       "606    hacker news                \n",
       "1731  pull request   TypeScript   \n",
       "\n",
       "                                                CGS_URL  CGS_Status  \\\n",
       "367   https://chat.openai.com/share/b508ddd3-af83-42...         200   \n",
       "606   https://chat.openai.com/share/6478dcdd-98d3-44...         200   \n",
       "1731  https://chat.openai.com/share/e5d50333-2d70-4c...         200   \n",
       "\n",
       "     CGS_DateOfConversation            CGS_DateOfAccess CGS_Title  \\\n",
       "367            July 8, 2023  2023-08-03 09:39:55.655581             \n",
       "606      September 12, 2023  2023-09-14 10:42:30.379231             \n",
       "1731      September 5, 2023  2023-09-14 07:39:48.425320             \n",
       "\n",
       "      CGS_NumberOfPrompts  CGS_TokensOfPrompts  CGS_TokensOfAnswers CGS_Model  \\\n",
       "367                   3.0                 36.0                931.0             \n",
       "606                   1.0                 15.0                618.0   Default   \n",
       "1731                  1.0                 10.0                250.0   Default   \n",
       "\n",
       "                                                Prompts  \\\n",
       "367   [How to add a java class in a generic containe...   \n",
       "606   [Discuss the last 20 years of Windows UI frame...   \n",
       "1731  [transifex github integration sync goes both w...   \n",
       "\n",
       "                                                Answers  Conversation_Length  \n",
       "367   [To add a Java class in a generic container fr...                    6  \n",
       "606   [Certainly! Let's walk through the last two de...                    2  \n",
       "1731  [As of my last update in September 2021, Trans...                    2  "
      ]
     },
     "execution_count": 20,
     "metadata": {},
     "output_type": "execute_result"
    }
   ],
   "source": [
    "final_df.loc[final_df.CGS_Title == '']"
   ]
  },
  {
   "cell_type": "code",
   "execution_count": 21,
   "id": "e711b6b4-fb0e-4f6f-ac25-5549f9199493",
   "metadata": {},
   "outputs": [],
   "source": [
    "final_df.to_csv(\"Final_data.csv\")"
   ]
  },
  {
   "cell_type": "code",
   "execution_count": 32,
   "id": "ab71b32e-5ef2-44a0-930b-eb05b2e9e208",
   "metadata": {},
   "outputs": [
    {
     "data": {
      "text/html": [
       "<div>\n",
       "<style scoped>\n",
       "    .dataframe tbody tr th:only-of-type {\n",
       "        vertical-align: middle;\n",
       "    }\n",
       "\n",
       "    .dataframe tbody tr th {\n",
       "        vertical-align: top;\n",
       "    }\n",
       "\n",
       "    .dataframe thead th {\n",
       "        text-align: right;\n",
       "    }\n",
       "</style>\n",
       "<table border=\"1\" class=\"dataframe\">\n",
       "  <thead>\n",
       "    <tr style=\"text-align: right;\">\n",
       "      <th></th>\n",
       "      <th>RepoLanguage</th>\n",
       "      <th>CGS_URL</th>\n",
       "    </tr>\n",
       "  </thead>\n",
       "  <tbody>\n",
       "    <tr>\n",
       "      <th>0</th>\n",
       "      <td>CSS</td>\n",
       "      <td>29.423660</td>\n",
       "    </tr>\n",
       "    <tr>\n",
       "      <th>1</th>\n",
       "      <td>Python</td>\n",
       "      <td>10.852713</td>\n",
       "    </tr>\n",
       "    <tr>\n",
       "      <th>2</th>\n",
       "      <td>HTML</td>\n",
       "      <td>6.572295</td>\n",
       "    </tr>\n",
       "    <tr>\n",
       "      <th>3</th>\n",
       "      <td>JavaScript</td>\n",
       "      <td>4.347826</td>\n",
       "    </tr>\n",
       "    <tr>\n",
       "      <th>4</th>\n",
       "      <td>TypeScript</td>\n",
       "      <td>3.572632</td>\n",
       "    </tr>\n",
       "    <tr>\n",
       "      <th>...</th>\n",
       "      <td>...</td>\n",
       "      <td>...</td>\n",
       "    </tr>\n",
       "    <tr>\n",
       "      <th>66</th>\n",
       "      <td>Nim</td>\n",
       "      <td>0.033704</td>\n",
       "    </tr>\n",
       "    <tr>\n",
       "      <th>67</th>\n",
       "      <td>Nix</td>\n",
       "      <td>0.033704</td>\n",
       "    </tr>\n",
       "    <tr>\n",
       "      <th>68</th>\n",
       "      <td>Nunjucks</td>\n",
       "      <td>0.033704</td>\n",
       "    </tr>\n",
       "    <tr>\n",
       "      <th>69</th>\n",
       "      <td>Objective-C</td>\n",
       "      <td>0.033704</td>\n",
       "    </tr>\n",
       "    <tr>\n",
       "      <th>70</th>\n",
       "      <td>Zig</td>\n",
       "      <td>0.033704</td>\n",
       "    </tr>\n",
       "  </tbody>\n",
       "</table>\n",
       "<p>71 rows × 2 columns</p>\n",
       "</div>"
      ],
      "text/plain": [
       "   RepoLanguage    CGS_URL\n",
       "0           CSS  29.423660\n",
       "1        Python  10.852713\n",
       "2          HTML   6.572295\n",
       "3    JavaScript   4.347826\n",
       "4    TypeScript   3.572632\n",
       "..          ...        ...\n",
       "66          Nim   0.033704\n",
       "67          Nix   0.033704\n",
       "68     Nunjucks   0.033704\n",
       "69  Objective-C   0.033704\n",
       "70          Zig   0.033704\n",
       "\n",
       "[71 rows x 2 columns]"
      ]
     },
     "execution_count": 32,
     "metadata": {},
     "output_type": "execute_result"
    }
   ],
   "source": [
    "(final_df[~(final_df.RepoLanguage == '')].groupby(\"RepoLanguage\", dropna=True).CGS_URL.nunique().sort_values(ascending=False) / final_df.shape[0] * 100).reset_index()"
   ]
  },
  {
   "cell_type": "code",
   "execution_count": 43,
   "id": "a9f2bb0c-24e9-4ef6-bf3e-675330c8fa9f",
   "metadata": {},
   "outputs": [],
   "source": [
    "def detect_language(text):\n",
    "    text = ' '.join(text)\n",
    "    try:\n",
    "        return detect(text)\n",
    "    except:\n",
    "        return 'Error'"
   ]
  },
  {
   "cell_type": "code",
   "execution_count": 44,
   "id": "1b8deb76-fa5b-49a6-9bd6-2392e37e0ab6",
   "metadata": {},
   "outputs": [],
   "source": [
    "final_df['language'] = final_df['Prompts'].apply(detect_language)"
   ]
  },
  {
   "cell_type": "code",
   "execution_count": 46,
   "id": "bb3cd635-c14e-42cc-8d08-24fb55d21869",
   "metadata": {},
   "outputs": [
    {
     "data": {
      "text/plain": [
       "en       2672\n",
       "ja         83\n",
       "es         39\n",
       "zh-cn      37\n",
       "pt         26\n",
       "de         18\n",
       "fr         18\n",
       "ko         16\n",
       "ca          9\n",
       "vi          8\n",
       "no          5\n",
       "ru          5\n",
       "da          5\n",
       "id          4\n",
       "nl          4\n",
       "et          3\n",
       "ro          2\n",
       "it          2\n",
       "cy          2\n",
       "sv          2\n",
       "pl          1\n",
       "sk          1\n",
       "af          1\n",
       "cs          1\n",
       "tr          1\n",
       "tl          1\n",
       "sw          1\n",
       "Name: language, dtype: int64"
      ]
     },
     "execution_count": 46,
     "metadata": {},
     "output_type": "execute_result"
    }
   ],
   "source": [
    "final_df.language.value_counts()"
   ]
  },
  {
   "cell_type": "code",
   "execution_count": 50,
   "id": "462f8e11-7373-4062-8a83-89e28ac5a0d3",
   "metadata": {},
   "outputs": [
    {
     "data": {
      "image/png": "[encoded data removed]",
      "text/plain": [
       "<Figure size 720x360 with 1 Axes>"
      ]
     },
     "metadata": {
      "needs_background": "light"
     },
     "output_type": "display_data"
    }
   ],
   "source": [
    "# Mapping language codes to their full forms for the word cloud\n",
    "language_full_forms = {\n",
    "    'en': 'English', 'ja': 'Japanese', 'es': 'Spanish', 'zh-cn': 'Chinese', \n",
    "    'pt': 'Portuguese', 'de': 'German', 'fr': 'French', 'ko': 'Korean', 'vi': 'Vietnamese', \n",
    "    'ca': 'Catalan', 'af': 'Afrikaans', 'ro': 'Romanian', 'no': 'Norwegian', 'ru': 'Russian', \n",
    "    'da': 'Danish', 'sv': 'Swedish', 'cy': 'Welsh', 'et': 'Estonian', 'nl': 'Dutch', \n",
    "    'id': 'Indonesian', 'tr': 'Turkish', 'pl': 'Polish', 'sq': 'Albanian', 'sk': 'Slovak', \n",
    "    'cs': 'Czech', 'it': 'Italian', 'sw': 'Swahili','tl': 'Tagalog'\n",
    "}\n",
    "\n",
    "# Updating the data for the word cloud with full forms\n",
    "wordcloud_data_full_forms = {language_full_forms[lang]: count * 10 for lang, count in final_df.language.value_counts().items()}\n",
    "\n",
    "# Creating the word cloud with full forms\n",
    "wordcloud_full_forms = WordCloud(width=800, height=400, background_color='white',colormap='cividis').generate_from_frequencies(wordcloud_data_full_forms)\n",
    "\n",
    "# Displaying the word cloud\n",
    "plt.figure(figsize=(10, 5))\n",
    "plt.imshow(wordcloud_full_forms, interpolation='bilinear')\n",
    "plt.axis('off')\n",
    "plt.title('Language Word Map (Full Forms)', fontsize=16)\n",
    "plt.show()\n"
   ]
  },
  {
   "cell_type": "code",
   "execution_count": 54,
   "id": "b032408b-e647-48f0-9e24-5c07f834b6a4",
   "metadata": {},
   "outputs": [
    {
     "data": {
      "image/png": "[encoded data removed]",
      "text/plain": [
       "<Figure size 864x576 with 1 Axes>"
      ]
     },
     "metadata": {
      "needs_background": "light"
     },
     "output_type": "display_data"
    },
    {
     "data": {
      "image/png": "[encoded data removed]",
      "text/plain": [
       "<Figure size 864x576 with 1 Axes>"
      ]
     },
     "metadata": {
      "needs_background": "light"
     },
     "output_type": "display_data"
    }
   ],
   "source": [
    "# Log Scale Bar Chart\n",
    "plt.figure(figsize=(12, 8))\n",
    "sns.barplot(x=list(final_df.language.value_counts().keys()), y=list(final_df.language.value_counts().values), palette='coolwarm')\n",
    "plt.yscale('log')\n",
    "plt.title('Language Distribution (Log Scale Bar Chart)', fontsize=16)\n",
    "plt.xlabel('Language', fontsize=12)\n",
    "plt.ylabel('Count (log scale)', fontsize=12)\n",
    "plt.xticks(rotation=45)\n",
    "plt.show()\n",
    "\n",
    "# Cumulative Distribution Plot\n",
    "# Sorting the languages by count\n",
    "sorted_counts = dict(sorted(final_df.language.value_counts().items(), key=lambda item: item[1], reverse=True))\n",
    "\n",
    "# Calculating the cumulative distribution\n",
    "cumulative_distribution = np.cumsum(list(sorted_counts.values())) / sum(sorted_counts.values()) * 100\n",
    "\n",
    "plt.figure(figsize=(12, 8))\n",
    "sns.lineplot(x=list(sorted_counts.keys()), y=cumulative_distribution, marker='o', color='green')\n",
    "plt.title('Cumulative Distribution of Languages', fontsize=16)\n",
    "plt.xlabel('Language', fontsize=12)\n",
    "plt.ylabel('Cumulative Percentage (%)', fontsize=12)\n",
    "plt.xticks(rotation=45)\n",
    "plt.grid(True)\n",
    "plt.show()\n"
   ]
  },
  {
   "cell_type": "code",
   "execution_count": 89,
   "id": "72fc8c47-705a-4c90-bc57-3121b269fda8",
   "metadata": {},
   "outputs": [],
   "source": [
    "english_df = final_df[final_df.language == 'en']"
   ]
  },
  {
   "cell_type": "code",
   "execution_count": 101,
   "id": "cd3935ce-0bae-452d-88c4-e16420e1567f",
   "metadata": {},
   "outputs": [
    {
     "data": {
      "text/plain": [
       "Type                      0\n",
       "RepoLanguage              0\n",
       "CGS_URL                   0\n",
       "CGS_Status                0\n",
       "CGS_DateOfConversation    0\n",
       "CGS_DateOfAccess          0\n",
       "CGS_Title                 0\n",
       "CGS_NumberOfPrompts       0\n",
       "CGS_TokensOfPrompts       0\n",
       "CGS_TokensOfAnswers       0\n",
       "CGS_Model                 0\n",
       "Prompts                   0\n",
       "Answers                   0\n",
       "Conversation_Length       0\n",
       "language                  0\n",
       "dtype: int64"
      ]
     },
     "execution_count": 101,
     "metadata": {},
     "output_type": "execute_result"
    }
   ],
   "source": [
    "english_df.isnull().sum()"
   ]
  },
  {
   "cell_type": "code",
   "execution_count": 91,
   "id": "0cf9e8c3-83d3-4c01-b00f-1f05d2da09ef",
   "metadata": {},
   "outputs": [
    {
     "name": "stderr",
     "output_type": "stream",
     "text": [
      "/var/folders/2w/4zg3r9_94c30brxs1qcn229m0000gn/T/ipykernel_19750/3638901101.py:1: SettingWithCopyWarning: \n",
      "A value is trying to be set on a copy of a slice from a DataFrame.\n",
      "Try using .loc[row_indexer,col_indexer] = value instead\n",
      "\n",
      "See the caveats in the documentation: https://pandas.pydata.org/pandas-docs/stable/user_guide/indexing.html#returning-a-view-versus-a-copy\n",
      "  english_df.loc[:, 'RepoLanguage'] = english_df['RepoLanguage'].replace('',np.nan,regex = True)\n"
     ]
    }
   ],
   "source": [
    "english_df.loc[:, 'RepoLanguage'] = english_df['RepoLanguage'].replace('',np.nan,regex = True)"
   ]
  },
  {
   "cell_type": "code",
   "execution_count": 93,
   "id": "550563d9-5b83-4ab5-bfaf-4e26f01c861f",
   "metadata": {},
   "outputs": [
    {
     "name": "stderr",
     "output_type": "stream",
     "text": [
      "/var/folders/2w/4zg3r9_94c30brxs1qcn229m0000gn/T/ipykernel_19750/1117997730.py:1: SettingWithCopyWarning: \n",
      "A value is trying to be set on a copy of a slice from a DataFrame.\n",
      "Try using .loc[row_indexer,col_indexer] = value instead\n",
      "\n",
      "See the caveats in the documentation: https://pandas.pydata.org/pandas-docs/stable/user_guide/indexing.html#returning-a-view-versus-a-copy\n",
      "  english_df.loc[:, 'CGS_Model'] = english_df['CGS_Model'].replace('',np.nan,regex = True)\n"
     ]
    }
   ],
   "source": [
    "english_df.loc[:, 'CGS_Model'] = english_df['CGS_Model'].replace('',np.nan,regex = True)"
   ]
  },
  {
   "cell_type": "code",
   "execution_count": 94,
   "id": "3db88304-cca5-49c0-acc1-0b85bcfae774",
   "metadata": {},
   "outputs": [
    {
     "name": "stderr",
     "output_type": "stream",
     "text": [
      "/var/folders/2w/4zg3r9_94c30brxs1qcn229m0000gn/T/ipykernel_19750/248438442.py:1: SettingWithCopyWarning: \n",
      "A value is trying to be set on a copy of a slice from a DataFrame.\n",
      "Try using .loc[row_indexer,col_indexer] = value instead\n",
      "\n",
      "See the caveats in the documentation: https://pandas.pydata.org/pandas-docs/stable/user_guide/indexing.html#returning-a-view-versus-a-copy\n",
      "  english_df.loc[:, 'CGS_Title'] = english_df['CGS_Title'].replace('',np.nan,regex = True)\n"
     ]
    }
   ],
   "source": [
    "english_df.loc[:, 'CGS_Title'] = english_df['CGS_Title'].replace('',np.nan,regex = True)"
   ]
  },
  {
   "cell_type": "code",
   "execution_count": 96,
   "id": "e82761fa-ce85-465b-b652-69d34fad2010",
   "metadata": {},
   "outputs": [
    {
     "name": "stderr",
     "output_type": "stream",
     "text": [
      "/var/folders/2w/4zg3r9_94c30brxs1qcn229m0000gn/T/ipykernel_19750/3291195931.py:1: SettingWithCopyWarning: \n",
      "A value is trying to be set on a copy of a slice from a DataFrame\n",
      "\n",
      "See the caveats in the documentation: https://pandas.pydata.org/pandas-docs/stable/user_guide/indexing.html#returning-a-view-versus-a-copy\n",
      "  english_df['CGS_Model'].fillna('Default', inplace=True)\n"
     ]
    }
   ],
   "source": [
    "english_df['CGS_Model'].fillna('Default', inplace=True)"
   ]
  },
  {
   "cell_type": "code",
   "execution_count": 98,
   "id": "dafac656-cb8a-4e04-893f-ee3b50acb872",
   "metadata": {},
   "outputs": [
    {
     "name": "stderr",
     "output_type": "stream",
     "text": [
      "/var/folders/2w/4zg3r9_94c30brxs1qcn229m0000gn/T/ipykernel_19750/2231334434.py:1: SettingWithCopyWarning: \n",
      "A value is trying to be set on a copy of a slice from a DataFrame\n",
      "\n",
      "See the caveats in the documentation: https://pandas.pydata.org/pandas-docs/stable/user_guide/indexing.html#returning-a-view-versus-a-copy\n",
      "  english_df['CGS_Title'].fillna('NA', inplace=True)\n"
     ]
    }
   ],
   "source": [
    "english_df['CGS_Title'].fillna('NA', inplace=True)"
   ]
  },
  {
   "cell_type": "code",
   "execution_count": 100,
   "id": "229a5756-620c-4708-9f6c-5325cda9be39",
   "metadata": {},
   "outputs": [
    {
     "name": "stderr",
     "output_type": "stream",
     "text": [
      "/var/folders/2w/4zg3r9_94c30brxs1qcn229m0000gn/T/ipykernel_19750/2989583493.py:1: SettingWithCopyWarning: \n",
      "A value is trying to be set on a copy of a slice from a DataFrame\n",
      "\n",
      "See the caveats in the documentation: https://pandas.pydata.org/pandas-docs/stable/user_guide/indexing.html#returning-a-view-versus-a-copy\n",
      "  english_df['RepoLanguage'].fillna('NA', inplace=True)\n"
     ]
    }
   ],
   "source": [
    "english_df['RepoLanguage'].fillna('NA', inplace=True)"
   ]
  },
  {
   "cell_type": "markdown",
   "id": "d4473b12-b058-47ae-89a8-d85dc3018c86",
   "metadata": {
    "tags": []
   },
   "source": [
    "### Basic Sentiment Analysis"
   ]
  },
  {
   "cell_type": "markdown",
   "id": "0302db57-7b3b-443c-a458-9a57e71d1260",
   "metadata": {},
   "source": [
    "#### Preprocessing"
   ]
  },
  {
   "cell_type": "code",
   "execution_count": 105,
   "id": "74466007-f097-4470-b038-b6bd8d90abff",
   "metadata": {},
   "outputs": [],
   "source": [
    "# Load the spaCy model\n",
    "nlp = spacy.load(\"en_core_web_sm\")\n",
    "\n",
    "def clean_df(text):\n",
    "    text = ' '.join(text)\n",
    "    # Remove URLs\n",
    "    text = re.sub(r'https?://\\S+|www\\.\\S+', ' ', text)\n",
    "    # Replace newlines and tabs with a space\n",
    "    text = text.replace('\\\\n', ' ').replace('\\t', ' ')\n",
    "    # Remove non-alphabetic characters\n",
    "    text = re.sub(r'[^A-Za-z\\s]', ' ', text)\n",
    "    # Convert to lowercase\n",
    "    text = text.lower()\n",
    "\n",
    "    # Apply spaCy model for lemmatization and stop word removal\n",
    "    doc = nlp(text)\n",
    "    clean_text = ' '.join([token.lemma_ for token in doc if not token.is_stop])\n",
    "\n",
    "    return clean_text.strip()"
   ]
  },
  {
   "cell_type": "code",
   "execution_count": 106,
   "id": "9ee365be-ee4e-4da4-bdcf-f9c9078aac7c",
   "metadata": {},
   "outputs": [
    {
     "name": "stderr",
     "output_type": "stream",
     "text": [
      "/var/folders/2w/4zg3r9_94c30brxs1qcn229m0000gn/T/ipykernel_19750/483241532.py:1: SettingWithCopyWarning: \n",
      "A value is trying to be set on a copy of a slice from a DataFrame.\n",
      "Try using .loc[row_indexer,col_indexer] = value instead\n",
      "\n",
      "See the caveats in the documentation: https://pandas.pydata.org/pandas-docs/stable/user_guide/indexing.html#returning-a-view-versus-a-copy\n",
      "  english_df['CleanPrompts'] = english_df['Prompts'].apply(clean_df)\n"
     ]
    }
   ],
   "source": [
    "english_df['CleanPrompts'] = english_df['Prompts'].apply(clean_df)"
   ]
  },
  {
   "cell_type": "code",
   "execution_count": 108,
   "id": "517bebe6-6777-4f15-a332-5709c92ab4f6",
   "metadata": {},
   "outputs": [
    {
     "data": {
      "text/html": [
       "<div>\n",
       "<style scoped>\n",
       "    .dataframe tbody tr th:only-of-type {\n",
       "        vertical-align: middle;\n",
       "    }\n",
       "\n",
       "    .dataframe tbody tr th {\n",
       "        vertical-align: top;\n",
       "    }\n",
       "\n",
       "    .dataframe thead th {\n",
       "        text-align: right;\n",
       "    }\n",
       "</style>\n",
       "<table border=\"1\" class=\"dataframe\">\n",
       "  <thead>\n",
       "    <tr style=\"text-align: right;\">\n",
       "      <th></th>\n",
       "      <th>Type</th>\n",
       "      <th>RepoLanguage</th>\n",
       "      <th>CGS_URL</th>\n",
       "      <th>CGS_Status</th>\n",
       "      <th>CGS_DateOfConversation</th>\n",
       "      <th>CGS_DateOfAccess</th>\n",
       "      <th>CGS_Title</th>\n",
       "      <th>CGS_NumberOfPrompts</th>\n",
       "      <th>CGS_TokensOfPrompts</th>\n",
       "      <th>CGS_TokensOfAnswers</th>\n",
       "      <th>CGS_Model</th>\n",
       "      <th>Prompts</th>\n",
       "      <th>Answers</th>\n",
       "      <th>Conversation_Length</th>\n",
       "      <th>language</th>\n",
       "      <th>CleanPrompts</th>\n",
       "    </tr>\n",
       "  </thead>\n",
       "  <tbody>\n",
       "    <tr>\n",
       "      <th>0</th>\n",
       "      <td>issue</td>\n",
       "      <td>Swift</td>\n",
       "      <td>https://chat.openai.com/share/00078bea-9349-47...</td>\n",
       "      <td>200</td>\n",
       "      <td>August 4, 2023</td>\n",
       "      <td>2023-08-24 10:13:24.517188</td>\n",
       "      <td>Set Reconciliation Protocol Overview</td>\n",
       "      <td>10.0</td>\n",
       "      <td>3674.0</td>\n",
       "      <td>4652.0</td>\n",
       "      <td>Default</td>\n",
       "      <td>[I'm trying to understand this set reconciliat...</td>\n",
       "      <td>[Alright! Let's start by breaking down the int...</td>\n",
       "      <td>20</td>\n",
       "      <td>en</td>\n",
       "      <td>m try understand set reconciliation protocol  ...</td>\n",
       "    </tr>\n",
       "    <tr>\n",
       "      <th>2</th>\n",
       "      <td>issue</td>\n",
       "      <td>PHP</td>\n",
       "      <td>https://chat.openai.com/share/00d4058e-bbd1-46...</td>\n",
       "      <td>200</td>\n",
       "      <td>August 14, 2023</td>\n",
       "      <td>2023-08-24 10:14:09.721718</td>\n",
       "      <td>Confirm Dialog on Popstate</td>\n",
       "      <td>2.0</td>\n",
       "      <td>47.0</td>\n",
       "      <td>381.0</td>\n",
       "      <td>Default</td>\n",
       "      <td>[Is it possible to show a confirm dialog when ...</td>\n",
       "      <td>[Yes, it is possible to achieve a similar beha...</td>\n",
       "      <td>4</td>\n",
       "      <td>en</td>\n",
       "      <td>possible confirm dialog user navigate away his...</td>\n",
       "    </tr>\n",
       "    <tr>\n",
       "      <th>3</th>\n",
       "      <td>issue</td>\n",
       "      <td>C#</td>\n",
       "      <td>https://chat.openai.com/share/01b0088b-4b8b-4e...</td>\n",
       "      <td>200</td>\n",
       "      <td>August 15, 2023</td>\n",
       "      <td>2023-08-24 10:10:34.002928</td>\n",
       "      <td>Sync vs. Async Approaches</td>\n",
       "      <td>1.0</td>\n",
       "      <td>25.0</td>\n",
       "      <td>345.0</td>\n",
       "      <td>Default</td>\n",
       "      <td>[HI! What better in C# for Task class. Use `Re...</td>\n",
       "      <td>[In C#, when dealing with asynchronous code an...</td>\n",
       "      <td>2</td>\n",
       "      <td>en</td>\n",
       "      <td>hi   well c   task class   use   result     ge...</td>\n",
       "    </tr>\n",
       "    <tr>\n",
       "      <th>4</th>\n",
       "      <td>issue</td>\n",
       "      <td>Python</td>\n",
       "      <td>https://chat.openai.com/share/0233d7e5-7286-44...</td>\n",
       "      <td>200</td>\n",
       "      <td>September 2, 2023</td>\n",
       "      <td>2023-09-14 07:55:42.761020</td>\n",
       "      <td>Setting up MongoDB in Flask</td>\n",
       "      <td>3.0</td>\n",
       "      <td>925.0</td>\n",
       "      <td>1130.0</td>\n",
       "      <td>Default</td>\n",
       "      <td>[reference flask app ./app.py:\\nfrom flask imp...</td>\n",
       "      <td>[To set up MongoDB in your Flask app, you'll n...</td>\n",
       "      <td>6</td>\n",
       "      <td>en</td>\n",
       "      <td>reference flask app    app py \\n flask import ...</td>\n",
       "    </tr>\n",
       "    <tr>\n",
       "      <th>5</th>\n",
       "      <td>issue</td>\n",
       "      <td>Go</td>\n",
       "      <td>https://chat.openai.com/share/02a1ba5b-217f-42...</td>\n",
       "      <td>200</td>\n",
       "      <td>August 19, 2023</td>\n",
       "      <td>2023-08-24 10:09:48.108851</td>\n",
       "      <td>gRPC Server for Web</td>\n",
       "      <td>2.0</td>\n",
       "      <td>51.0</td>\n",
       "      <td>1191.0</td>\n",
       "      <td>Default</td>\n",
       "      <td>[i have a grpc server, how can i modify the se...</td>\n",
       "      <td>[To enable gRPC communication over HTTP/1.1 or...</td>\n",
       "      <td>4</td>\n",
       "      <td>en</td>\n",
       "      <td>grpc server   modify server support http      ...</td>\n",
       "    </tr>\n",
       "  </tbody>\n",
       "</table>\n",
       "</div>"
      ],
      "text/plain": [
       "    Type RepoLanguage                                            CGS_URL  \\\n",
       "0  issue        Swift  https://chat.openai.com/share/00078bea-9349-47...   \n",
       "2  issue          PHP  https://chat.openai.com/share/00d4058e-bbd1-46...   \n",
       "3  issue           C#  https://chat.openai.com/share/01b0088b-4b8b-4e...   \n",
       "4  issue       Python  https://chat.openai.com/share/0233d7e5-7286-44...   \n",
       "5  issue           Go  https://chat.openai.com/share/02a1ba5b-217f-42...   \n",
       "\n",
       "   CGS_Status CGS_DateOfConversation            CGS_DateOfAccess  \\\n",
       "0         200         August 4, 2023  2023-08-24 10:13:24.517188   \n",
       "2         200        August 14, 2023  2023-08-24 10:14:09.721718   \n",
       "3         200        August 15, 2023  2023-08-24 10:10:34.002928   \n",
       "4         200      September 2, 2023  2023-09-14 07:55:42.761020   \n",
       "5         200        August 19, 2023  2023-08-24 10:09:48.108851   \n",
       "\n",
       "                              CGS_Title  CGS_NumberOfPrompts  \\\n",
       "0  Set Reconciliation Protocol Overview                 10.0   \n",
       "2            Confirm Dialog on Popstate                  2.0   \n",
       "3             Sync vs. Async Approaches                  1.0   \n",
       "4           Setting up MongoDB in Flask                  3.0   \n",
       "5                   gRPC Server for Web                  2.0   \n",
       "\n",
       "   CGS_TokensOfPrompts  CGS_TokensOfAnswers CGS_Model  \\\n",
       "0               3674.0               4652.0   Default   \n",
       "2                 47.0                381.0   Default   \n",
       "3                 25.0                345.0   Default   \n",
       "4                925.0               1130.0   Default   \n",
       "5                 51.0               1191.0   Default   \n",
       "\n",
       "                                             Prompts  \\\n",
       "0  [I'm trying to understand this set reconciliat...   \n",
       "2  [Is it possible to show a confirm dialog when ...   \n",
       "3  [HI! What better in C# for Task class. Use `Re...   \n",
       "4  [reference flask app ./app.py:\\nfrom flask imp...   \n",
       "5  [i have a grpc server, how can i modify the se...   \n",
       "\n",
       "                                             Answers  Conversation_Length  \\\n",
       "0  [Alright! Let's start by breaking down the int...                   20   \n",
       "2  [Yes, it is possible to achieve a similar beha...                    4   \n",
       "3  [In C#, when dealing with asynchronous code an...                    2   \n",
       "4  [To set up MongoDB in your Flask app, you'll n...                    6   \n",
       "5  [To enable gRPC communication over HTTP/1.1 or...                    4   \n",
       "\n",
       "  language                                       CleanPrompts  \n",
       "0       en  m try understand set reconciliation protocol  ...  \n",
       "2       en  possible confirm dialog user navigate away his...  \n",
       "3       en  hi   well c   task class   use   result     ge...  \n",
       "4       en  reference flask app    app py \\n flask import ...  \n",
       "5       en  grpc server   modify server support http      ...  "
      ]
     },
     "execution_count": 108,
     "metadata": {},
     "output_type": "execute_result"
    }
   ],
   "source": [
    "english_df.head()"
   ]
  },
  {
   "cell_type": "code",
   "execution_count": 111,
   "id": "180437fe-0cb1-451d-bdae-55965ecab7d9",
   "metadata": {},
   "outputs": [],
   "source": [
    "# Step 1: Count word frequencies\n",
    "word_counts = Counter()\n",
    "english_df['CleanPrompts'].str.split().apply(word_counts.update)\n",
    "\n",
    "# Convert Counter object to a dictionary\n",
    "frequency_dict = dict(word_counts)"
   ]
  },
  {
   "cell_type": "code",
   "execution_count": 112,
   "id": "7788cc32-53c6-47d0-a544-a04398644fe2",
   "metadata": {},
   "outputs": [],
   "source": [
    "sorted_frequency_dict = dict(sorted(frequency_dict.items(), key=lambda item: item[1], reverse=True))"
   ]
  },
  {
   "cell_type": "code",
   "execution_count": 113,
   "id": "9f141048-66f5-4ada-9c28-2840444c505b",
   "metadata": {},
   "outputs": [],
   "source": [
    "sorted_frequency_dict = {word: count for word, count in sorted_frequency_dict.items() if len(word) > 1}\n",
    "# Parameters: percentage of words to remove from top and bottom\n",
    "top_percent = 5  # for example, top 5%\n",
    "bottom_percent = 5  # for example, bottom 5%\n",
    "\n",
    "# Number of words to remove from top and bottom\n",
    "num_words = len(sorted_frequency_dict)\n",
    "top_words_to_remove = int(num_words * top_percent / 100)\n",
    "bottom_words_to_remove = int(num_words * bottom_percent / 100)\n",
    "\n",
    "# Removing top N% high-frequency words\n",
    "for word in list(sorted_frequency_dict.keys())[:top_words_to_remove]:\n",
    "    del sorted_frequency_dict[word]\n",
    "\n",
    "# Removing bottom N% low-frequency words\n",
    "for word in list(sorted_frequency_dict.keys())[-bottom_words_to_remove:]:\n",
    "    del sorted_frequency_dict[word]\n",
    "\n",
    "# sorted_frequency_dict now has the words removed as per the criteria\n"
   ]
  },
  {
   "cell_type": "code",
   "execution_count": 114,
   "id": "46534781-69b6-4468-a6f6-3ec1fcc458d1",
   "metadata": {},
   "outputs": [
    {
     "name": "stderr",
     "output_type": "stream",
     "text": [
      "/var/folders/2w/4zg3r9_94c30brxs1qcn229m0000gn/T/ipykernel_19750/2561259632.py:6: SettingWithCopyWarning: \n",
      "A value is trying to be set on a copy of a slice from a DataFrame.\n",
      "Try using .loc[row_indexer,col_indexer] = value instead\n",
      "\n",
      "See the caveats in the documentation: https://pandas.pydata.org/pandas-docs/stable/user_guide/indexing.html#returning-a-view-versus-a-copy\n",
      "  english_df['CleanPrompts'] = english_df['CleanPrompts'].apply(filter_words)\n"
     ]
    }
   ],
   "source": [
    "def filter_words(text):\n",
    "    # Split the text into words and filter out words not in the sorted_frequency_dict\n",
    "    return ' '.join([word for word in text.split() if word in sorted_frequency_dict])\n",
    "\n",
    "# Apply this function to the 'CleanPrompts' column\n",
    "english_df['CleanPrompts'] = english_df['CleanPrompts'].apply(filter_words)"
   ]
  },
  {
   "cell_type": "code",
   "execution_count": 115,
   "id": "08e1629f-bcf6-4dbc-8161-f158fe0c2414",
   "metadata": {},
   "outputs": [
    {
     "name": "stderr",
     "output_type": "stream",
     "text": [
      "/var/folders/2w/4zg3r9_94c30brxs1qcn229m0000gn/T/ipykernel_19750/3638147721.py:12: SettingWithCopyWarning: \n",
      "A value is trying to be set on a copy of a slice from a DataFrame.\n",
      "Try using .loc[row_indexer,col_indexer] = value instead\n",
      "\n",
      "See the caveats in the documentation: https://pandas.pydata.org/pandas-docs/stable/user_guide/indexing.html#returning-a-view-versus-a-copy\n",
      "  english_df['TextBlob_Sentiment'] = english_df['CleanPrompts'].apply(categorize_sentiment_blob)\n"
     ]
    }
   ],
   "source": [
    "def categorize_sentiment_blob(text):\n",
    "    blob = TextBlob(text)\n",
    "    polarity = blob.sentiment.polarity\n",
    "    if polarity > 0:\n",
    "        return 'positive'\n",
    "    elif polarity < 0:\n",
    "        return 'negative'\n",
    "    else:\n",
    "        return 'neutral'\n",
    "\n",
    "# Apply this function to your DataFrame\n",
    "english_df['TextBlob_Sentiment'] = english_df['CleanPrompts'].apply(categorize_sentiment_blob)\n"
   ]
  },
  {
   "cell_type": "code",
   "execution_count": 116,
   "id": "aafe95c7-dc9b-473f-ad56-39c86de0278b",
   "metadata": {},
   "outputs": [
    {
     "name": "stderr",
     "output_type": "stream",
     "text": [
      "[nltk_data] Downloading package vader_lexicon to\n",
      "[nltk_data]     /Users/saxena/nltk_data...\n"
     ]
    },
    {
     "data": {
      "text/plain": [
       "True"
      ]
     },
     "execution_count": 116,
     "metadata": {},
     "output_type": "execute_result"
    }
   ],
   "source": [
    "nltk.download('vader_lexicon')"
   ]
  },
  {
   "cell_type": "code",
   "execution_count": 118,
   "id": "24c8ae87-88d1-473d-8d78-af681decd364",
   "metadata": {},
   "outputs": [
    {
     "name": "stderr",
     "output_type": "stream",
     "text": [
      "/var/folders/2w/4zg3r9_94c30brxs1qcn229m0000gn/T/ipykernel_19750/2840541270.py:15: SettingWithCopyWarning: \n",
      "A value is trying to be set on a copy of a slice from a DataFrame.\n",
      "Try using .loc[row_indexer,col_indexer] = value instead\n",
      "\n",
      "See the caveats in the documentation: https://pandas.pydata.org/pandas-docs/stable/user_guide/indexing.html#returning-a-view-versus-a-copy\n",
      "  english_df['VADER_Sentiment'] = english_df['CleanPrompts'].apply(categorize_sentiment_vader)\n"
     ]
    }
   ],
   "source": [
    "from nltk.sentiment import SentimentIntensityAnalyzer\n",
    "\n",
    "sia = SentimentIntensityAnalyzer()\n",
    "\n",
    "def categorize_sentiment_vader(text):\n",
    "    score = sia.polarity_scores(text)['compound']\n",
    "    if score > 0.05:  # These thresholds can be adjusted\n",
    "        return 'positive'\n",
    "    elif score < -0.05:\n",
    "        return 'negative'\n",
    "    else:\n",
    "        return 'neutral'\n",
    "\n",
    "# Apply this function to your DataFrame\n",
    "english_df['VADER_Sentiment'] = english_df['CleanPrompts'].apply(categorize_sentiment_vader)"
   ]
  },
  {
   "cell_type": "code",
   "execution_count": 119,
   "id": "15a48669-3477-4498-a528-160614992dd8",
   "metadata": {},
   "outputs": [
    {
     "data": {
      "image/png": "[encoded data removed]",
      "text/plain": [
       "<Figure size 576x432 with 1 Axes>"
      ]
     },
     "metadata": {
      "needs_background": "light"
     },
     "output_type": "display_data"
    }
   ],
   "source": [
    "# Get value counts\n",
    "sentiment_counts = english_df['TextBlob_Sentiment'].value_counts()\n",
    "\n",
    "# Plotting\n",
    "plt.figure(figsize=(8, 6))\n",
    "sentiment_counts.plot(kind='bar', color='skyblue')\n",
    "plt.title('Distribution of TextBlob Sentiments')\n",
    "plt.xlabel('Sentiment')\n",
    "plt.ylabel('Counts')\n",
    "plt.xticks(rotation=45)  # Rotates the x-axis labels to avoid overlapping\n",
    "plt.show()\n"
   ]
  },
  {
   "cell_type": "code",
   "execution_count": 121,
   "id": "12b6217b-f849-4a7b-97ee-18b40a7b719f",
   "metadata": {},
   "outputs": [
    {
     "data": {
      "image/png": "[encoded data removed]",
      "text/plain": [
       "<Figure size 576x432 with 1 Axes>"
      ]
     },
     "metadata": {
      "needs_background": "light"
     },
     "output_type": "display_data"
    }
   ],
   "source": [
    "# Get value counts\n",
    "sentiment_counts = english_df['VADER_Sentiment'].value_counts()\n",
    "\n",
    "# Plotting\n",
    "plt.figure(figsize=(8, 6))\n",
    "sentiment_counts.plot(kind='bar', color='skyblue')\n",
    "plt.title('Distribution of VADER_Sent Sentiments')\n",
    "plt.xlabel('Sentiment')\n",
    "plt.ylabel('Counts')\n",
    "plt.xticks(rotation=45)  # Rotates the x-axis labels to avoid overlapping\n",
    "plt.show()"
   ]
  },
  {
   "cell_type": "code",
   "execution_count": 122,
   "id": "2d720693-9ff0-4399-9082-c98c26e5d3b1",
   "metadata": {},
   "outputs": [],
   "source": [
    "english_df.to_csv('English_Prompt_Data.csv')"
   ]
  },
  {
   "cell_type": "code",
   "execution_count": null,
   "id": "381228f7-9205-4cf2-b995-b2772bd8737b",
   "metadata": {},
   "outputs": [],
   "source": []
  }
 ],
 "metadata": {
  "kernelspec": {
   "display_name": "Python 3 (ipykernel)",
   "language": "python",
   "name": "python3"
  },
  "language_info": {
   "codemirror_mode": {
    "name": "ipython",
    "version": 3
   },
   "file_extension": ".py",
   "mimetype": "text/x-python",
   "name": "python",
   "nbconvert_exporter": "python",
   "pygments_lexer": "ipython3",
   "version": "3.10.8"
  }
 },
 "nbformat": 4,
 "nbformat_minor": 5
}
